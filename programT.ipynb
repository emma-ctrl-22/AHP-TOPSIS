{
 "cells": [
  {
   "cell_type": "code",
   "execution_count": 8,
   "metadata": {},
   "outputs": [],
   "source": [
    "import numpy as np\n",
    "import pandas as pd\n",
    "from scipy.linalg import eig\n",
    "import os\n",
    "from docx import Document"
   ]
  },
  {
   "cell_type": "code",
   "execution_count": 9,
   "metadata": {},
   "outputs": [],
   "source": [
    "# Function to read CSV file\n",
    "def read_csv(file_path):\n",
    "    try:\n",
    "        data = pd.read_csv(file_path)\n",
    "        print(f\"Successfully read {file_path}\")\n",
    "        return data\n",
    "    except Exception as e:\n",
    "        print(f\"Error reading {file_path}: {e}\")\n",
    "        return None"
   ]
  },
  {
   "cell_type": "code",
   "execution_count": 10,
   "metadata": {},
   "outputs": [],
   "source": [
    "# Function to preprocess the data\n",
    "def preprocess_data(data):\n",
    "    # Example preprocessing steps\n",
    "    data.fillna(0, inplace=True)  # Handle missing values\n",
    "    return data"
   ]
  },
  {
   "cell_type": "code",
   "execution_count": 11,
   "metadata": {},
   "outputs": [],
   "source": [
    "# Function to create pairwise comparison matrix\n",
    "def create_pairwise_matrix(data):\n",
    "    return np.array(data)\n",
    "\n",
    "# Function to calculate weights using Eigen vector method\n",
    "def calculate_weights(matrix):\n",
    "    eigenvalues, eigenvectors = eig(matrix)\n",
    "    max_eigenvalue = np.max(eigenvalues)\n",
    "    eigenvector = eigenvectors[:, np.argmax(eigenvalues)].real\n",
    "    weights = eigenvector / np.sum(eigenvector)\n",
    "    return weights, max_eigenvalue\n",
    "\n",
    "# Function to calculate consistency ratio\n",
    "def consistency_ratio(matrix, max_eigenvalue, ri):\n",
    "    n = matrix.shape[0]\n",
    "    ci = (max_eigenvalue - n) / (n - 1)\n",
    "    cr = ci / ri\n",
    "    return ci, cr"
   ]
  },
  {
   "cell_type": "code",
   "execution_count": 12,
   "metadata": {},
   "outputs": [],
   "source": [
    "# Function to aggregate pairwise matrices\n",
    "def aggregate_matrices(matrices):\n",
    "    geo_mean = np.exp(np.mean(np.log(matrices), axis=0))\n",
    "    return geo_mean\n"
   ]
  },
  {
   "cell_type": "code",
   "execution_count": 13,
   "metadata": {},
   "outputs": [],
   "source": [
    "# Function to normalize matrix\n",
    "def normalize(matrix):\n",
    "    norm_matrix = matrix / np.sqrt((matrix**2).sum(axis=0))\n",
    "    return norm_matrix\n",
    "\n",
    "# Function to calculate weighted normalized matrix\n",
    "def weighted_normalized_matrix(norm_matrix, weights):\n",
    "    return norm_matrix * weights\n",
    "\n",
    "# Function to determine ideal solutions\n",
    "def ideal_solutions(weighted_matrix):\n",
    "    positive_ideal = np.max(weighted_matrix, axis=0)\n",
    "    negative_ideal = np.min(weighted_matrix, axis=0)\n",
    "    return positive_ideal, negative_ideal\n",
    "\n",
    "# Function to calculate separation measures\n",
    "def separation_measures(weighted_matrix, ideal):\n",
    "    separation = np.sqrt(((weighted_matrix - ideal)**2).sum(axis=1))\n",
    "    return separation\n",
    "\n",
    "# Function to calculate closeness ratio\n",
    "def closeness_ratio(separation_positive, separation_negative):\n",
    "    return separation_negative / (separation_positive + separation_negative)\n"
   ]
  },
  {
   "cell_type": "code",
   "execution_count": 14,
   "metadata": {},
   "outputs": [
    {
     "name": "stdout",
     "output_type": "stream",
     "text": [
      "Successfully read ./data/criteria.csv\n",
      "Criteria matrix shape: (35, 55)\n",
      "Error: Criteria matrix is not square. Exiting.\n"
     ]
    }
   ],
   "source": [
    "def main():\n",
    "    # Set file paths\n",
    "    data_folder = './data/'\n",
    "    result_file = './results/results.docx'\n",
    "\n",
    "    # Read criteria data\n",
    "    criteria_file = os.path.join(data_folder, 'criteria.csv')\n",
    "    criteria_data = read_csv(criteria_file)\n",
    "    if criteria_data is None:\n",
    "        print(\"Failed to read criteria data. Exiting.\")\n",
    "        return\n",
    "\n",
    "    criteria_matrix = create_pairwise_matrix(criteria_data.values)\n",
    "    print(f\"Criteria matrix shape: {criteria_matrix.shape}\")\n",
    "\n",
    "    if criteria_matrix.shape[0] != criteria_matrix.shape[1]:\n",
    "        print(\"Error: Criteria matrix is not square. Exiting.\")\n",
    "        return\n",
    "\n",
    "    # Calculate weights and consistency for criteria\n",
    "    weights, max_eigenvalue = calculate_weights(criteria_matrix)\n",
    "    ri = 1.51  # Correct RI value\n",
    "    ci, cr = consistency_ratio(criteria_matrix, max_eigenvalue, ri)\n",
    "\n",
    "    if cr > 0.1:\n",
    "        print(f\"Consistency ratio too high: {cr}. Exiting.\")\n",
    "        return\n",
    "\n",
    "    # Aggregate pairwise matrices for sub-criteria\n",
    "    sub_criteria_files = [f for f in os.listdir(data_folder) if f != 'criteria.csv']\n",
    "    sub_criteria_matrices = []\n",
    "    for file in sub_criteria_files:\n",
    "        data = read_csv(os.path.join(data_folder, file))\n",
    "        if data is not None:\n",
    "            data = preprocess_data(data)\n",
    "            matrix = create_pairwise_matrix(data.values)\n",
    "            print(f\"Sub-criteria matrix shape for {file}: {matrix.shape}\")\n",
    "\n",
    "            if matrix.shape[0] != matrix.shape[1]:\n",
    "                print(f\"Error: Sub-criteria matrix in {file} is not square. Skipping.\")\n",
    "                continue\n",
    "\n",
    "            _, max_eigenvalue = calculate_weights(matrix)\n",
    "            ci, cr = consistency_ratio(matrix, max_eigenvalue, ri)\n",
    "            if cr <= 0.1:\n",
    "                sub_criteria_matrices.append(matrix)\n",
    "            else:\n",
    "                print(f\"File {file} consistency ratio too high: {cr}\")\n",
    "    \n",
    "    if not sub_criteria_matrices:\n",
    "        print(\"No valid sub-criteria matrices found. Exiting.\")\n",
    "        return\n",
    "\n",
    "    aggregate_matrix = aggregate_matrices(sub_criteria_matrices)\n",
    "    agg_weights, _ = calculate_weights(aggregate_matrix)\n",
    "\n",
    "    # Implement TOPSIS\n",
    "    # Load alternatives scores dynamically (this is an example, adjust accordingly)\n",
    "    alternatives = np.random.rand(5, len(weights))  # 5 alternatives and weights length criteria\n",
    "    decision_matrix = alternatives\n",
    "    norm_matrix = normalize(decision_matrix)\n",
    "    weighted_matrix = weighted_normalized_matrix(norm_matrix, agg_weights)\n",
    "    positive_ideal, negative_ideal = ideal_solutions(weighted_matrix)\n",
    "    separation_positive = separation_measures(weighted_matrix, positive_ideal)\n",
    "    separation_negative = separation_measures(weighted_matrix, negative_ideal)\n",
    "    closeness = closeness_ratio(separation_positive, separation_negative)\n",
    "\n",
    "    # Rank alternatives\n",
    "    ranks = np.argsort(closeness)[::-1]\n",
    "\n",
    "    # Export results to Word document\n",
    "    doc = Document()\n",
    "    doc.add_heading('HTA Results', 0)\n",
    "    doc.add_paragraph(f\"Criteria Weights: {weights}\")\n",
    "    doc.add_paragraph(f\"Consistency Ratio: {cr}\")\n",
    "    doc.add_paragraph(f\"Aggregate Weights: {agg_weights}\")\n",
    "    doc.add_paragraph(f\"Closeness Ratios: {closeness}\")\n",
    "    doc.add_paragraph(f\"Ranks: {ranks}\")\n",
    "    doc.save(result_file)\n",
    "\n",
    "if __name__ == \"__main__\":\n",
    "    main()"
   ]
  },
  {
   "cell_type": "code",
   "execution_count": null,
   "metadata": {},
   "outputs": [],
   "source": []
  }
 ],
 "metadata": {
  "kernelspec": {
   "display_name": "Python 3",
   "language": "python",
   "name": "python3"
  },
  "language_info": {
   "codemirror_mode": {
    "name": "ipython",
    "version": 3
   },
   "file_extension": ".py",
   "mimetype": "text/x-python",
   "name": "python",
   "nbconvert_exporter": "python",
   "pygments_lexer": "ipython3",
   "version": "3.12.4"
  }
 },
 "nbformat": 4,
 "nbformat_minor": 2
}
