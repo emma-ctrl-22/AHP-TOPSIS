{
 "cells": [
  {
   "cell_type": "code",
   "execution_count": 2,
   "metadata": {},
   "outputs": [],
   "source": [
    "import numpy as np\n",
    "import pandas as pd\n",
    "import os\n",
    "from docx import Document\n",
    "from docx.shared import Pt\n",
    "from scipy.stats import gmean\n"
   ]
  },
  {
   "cell_type": "code",
   "execution_count": 3,
   "metadata": {},
   "outputs": [],
   "source": [
    "# Constants\n",
    "RI = 1.51\n",
    "\n",
    "def read_pairwise_comparison_data(file_path):\n",
    "    data = pd.read_csv(file_path, index_col=0)\n",
    "    matrices = {}\n",
    "    for col in data.columns:\n",
    "        matrices[col] = data[col].apply(lambda x: eval(x) if isinstance(x, str) else x).values.reshape(-1, len(data))\n",
    "    return matrices"
   ]
  },
  {
   "cell_type": "code",
   "execution_count": 4,
   "metadata": {},
   "outputs": [],
   "source": [
    "def calculate_weights(matrix):\n",
    "    eigvals, eigvecs = np.linalg.eig(matrix)\n",
    "    max_eigval = np.max(eigvals)\n",
    "    max_eigvec = eigvecs[:, np.argmax(eigvals)].real\n",
    "    weights = max_eigvec / np.sum(max_eigvec)\n",
    "    return weights, max_eigval\n"
   ]
  },
  {
   "cell_type": "code",
   "execution_count": 5,
   "metadata": {},
   "outputs": [],
   "source": [
    "def calculate_consistency(matrix, max_eigval):\n",
    "    n = len(matrix)\n",
    "    CI = (max_eigval - n) / (n - 1)\n",
    "    CR = CI / RI\n",
    "    return CI, CR"
   ]
  },
  {
   "cell_type": "code",
   "execution_count": 6,
   "metadata": {},
   "outputs": [],
   "source": [
    "def save_matrices_to_word(doc, matrices, title):\n",
    "    for idx, (key, matrix) in enumerate(matrices.items(), 1):\n",
    "        doc.add_heading(f'{title} for Clinical Engineer {key}', level=2)\n",
    "        table = doc.add_table(rows=matrix.shape[0] + 1, cols=matrix.shape[1] + 1)\n",
    "        table.style = 'Table Grid'\n",
    "        \n",
    "        for i in range(matrix.shape[0]):\n",
    "            table.cell(i + 1, 0).text = f'Criterion {i + 1}'\n",
    "            table.cell(0, i + 1).text = f'Criterion {i + 1}'\n",
    "            for j in range(matrix.shape[1]):\n",
    "                cell = table.cell(i + 1, j + 1)\n",
    "                cell.text = f'{matrix[i, j]:.4f}'\n",
    "                for paragraph in cell.paragraphs:\n",
    "                    for run in paragraph.runs:\n",
    "                        run.font.size = Pt(10)\n",
    "        \n",
    "        weights, max_eigval = calculate_weights(matrix)\n",
    "        CI, CR = calculate_consistency(matrix, max_eigval)\n",
    "        \n",
    "        # Add calculated values to the document\n",
    "        doc.add_paragraph(f'Weights: {weights}')\n",
    "        doc.add_paragraph(f'Max Eigenvalue: {max_eigval:.4f}')\n",
    "        doc.add_paragraph(f'Consistency Index (CI): {CI:.4f}')\n",
    "        doc.add_paragraph(f'Consistency Ratio (CR): {CR:.4f}')"
   ]
  },
  {
   "cell_type": "code",
   "execution_count": 7,
   "metadata": {},
   "outputs": [],
   "source": [
    "def aggregate_matrices(matrices):\n",
    "    valid_matrices = [matrix for matrix in matrices.values() if calculate_consistency(matrix, calculate_weights(matrix)[1])[1] <= 0.1]\n",
    "    if not valid_matrices:\n",
    "        raise ValueError(\"No valid matrices with CR <= 0.1\")\n",
    "    aggregate_matrix = gmean(np.array(valid_matrices), axis=0)\n",
    "    return aggregate_matrix"
   ]
  },
  {
   "cell_type": "code",
   "execution_count": 8,
   "metadata": {},
   "outputs": [],
   "source": [
    "def process_criteria(file_path, doc, title):\n",
    "    matrices = read_pairwise_comparison_data(file_path)\n",
    "    save_matrices_to_word(doc, matrices, f'{title} Matrices')\n",
    "    \n",
    "    aggregate_matrix = aggregate_matrices(matrices)\n",
    "    weights, max_eigval = calculate_weights(aggregate_matrix)\n",
    "    CI, CR = calculate_consistency(aggregate_matrix, max_eigval)\n",
    "    \n",
    "    doc.add_heading(f'Aggregate {title} Matrix', level=2)\n",
    "    table = doc.add_table(rows=aggregate_matrix.shape[0] + 1, cols=aggregate_matrix.shape[1] + 1)\n",
    "    table.style = 'Table Grid'\n",
    "    \n",
    "    for i in range(aggregate_matrix.shape[0]):\n",
    "        table.cell(i + 1, 0).text = f'Criterion {i + 1}'\n",
    "        table.cell(0, i + 1).text = f'Criterion {i + 1}'\n",
    "        for j in range(aggregate_matrix.shape[1]):\n",
    "            cell = table.cell(i + 1, j + 1)\n",
    "            cell.text = f'{aggregate_matrix[i, j]:.4f}'\n",
    "            for paragraph in cell.paragraphs:\n",
    "                for run in paragraph.runs:\n",
    "                    run.font.size = Pt(10)\n",
    "    \n",
    "    doc.add_paragraph(f'Weights: {weights}')\n",
    "    doc.add_paragraph(f'Max Eigenvalue: {max_eigval:.4f}')\n",
    "    doc.add_paragraph(f'Consistency Index (CI): {CI:.4f}')\n",
    "    doc.add_paragraph(f'Consistency Ratio (CR): {CR:.4f}')\n",
    "\n",
    "    return weights"
   ]
  },
  {
   "cell_type": "code",
   "execution_count": 9,
   "metadata": {},
   "outputs": [
    {
     "name": "stdout",
     "output_type": "stream",
     "text": [
      "{'Performance': './data/performance.csv', 'Physical Construction and Quality': './data/physical_construction.csv', 'Compliance with Regulations and Standards': './data/compliance.csv', 'Reliability and Robustness': './data/reliability.csv', 'Ease of Maintenance': './data/ease_of_maintenance.csv', 'Safety': './data/safety.csv', 'Compatibility with existing Systems and Devices': './data/compatibility.csv', 'Ease of Use': './data/ease_of_use.csv', 'Total Cost of Ownership': './data/cost_of_ownership.csv', 'Environmental and Utilities Requirements': './data/environmental_requirements.csv', 'Supplier': './data/supplier.csv'}\n"
     ]
    },
    {
     "ename": "LinAlgError",
     "evalue": "Last 2 dimensions of the array must be square",
     "output_type": "error",
     "traceback": [
      "\u001b[1;31m---------------------------------------------------------------------------\u001b[0m",
      "\u001b[1;31mLinAlgError\u001b[0m                               Traceback (most recent call last)",
      "Cell \u001b[1;32mIn[9], line 21\u001b[0m\n\u001b[0;32m     18\u001b[0m doc\u001b[38;5;241m.\u001b[39madd_heading(\u001b[38;5;124m'\u001b[39m\u001b[38;5;124mAHP-TOPSIS Model for Health Technology Assessment of Medical Equipment\u001b[39m\u001b[38;5;124m'\u001b[39m, \u001b[38;5;241m0\u001b[39m)\n\u001b[0;32m     20\u001b[0m \u001b[38;5;66;03m# # Process main criteria\u001b[39;00m\n\u001b[1;32m---> 21\u001b[0m main_criteria_weights \u001b[38;5;241m=\u001b[39m \u001b[43mprocess_criteria\u001b[49m\u001b[43m(\u001b[49m\u001b[43mcriteria_file\u001b[49m\u001b[43m,\u001b[49m\u001b[43m \u001b[49m\u001b[43mdoc\u001b[49m\u001b[43m,\u001b[49m\u001b[43m \u001b[49m\u001b[38;5;124;43m\"\u001b[39;49m\u001b[38;5;124;43mMain Criteria\u001b[39;49m\u001b[38;5;124;43m\"\u001b[39;49m\u001b[43m)\u001b[49m\n\u001b[0;32m     23\u001b[0m \u001b[38;5;66;03m# Process subcriteria\u001b[39;00m\n\u001b[0;32m     24\u001b[0m subcriteria_weights \u001b[38;5;241m=\u001b[39m {}\n",
      "Cell \u001b[1;32mIn[8], line 3\u001b[0m, in \u001b[0;36mprocess_criteria\u001b[1;34m(file_path, doc, title)\u001b[0m\n\u001b[0;32m      1\u001b[0m \u001b[38;5;28;01mdef\u001b[39;00m \u001b[38;5;21mprocess_criteria\u001b[39m(file_path, doc, title):\n\u001b[0;32m      2\u001b[0m     matrices \u001b[38;5;241m=\u001b[39m read_pairwise_comparison_data(file_path)\n\u001b[1;32m----> 3\u001b[0m     \u001b[43msave_matrices_to_word\u001b[49m\u001b[43m(\u001b[49m\u001b[43mdoc\u001b[49m\u001b[43m,\u001b[49m\u001b[43m \u001b[49m\u001b[43mmatrices\u001b[49m\u001b[43m,\u001b[49m\u001b[43m \u001b[49m\u001b[38;5;124;43mf\u001b[39;49m\u001b[38;5;124;43m'\u001b[39;49m\u001b[38;5;132;43;01m{\u001b[39;49;00m\u001b[43mtitle\u001b[49m\u001b[38;5;132;43;01m}\u001b[39;49;00m\u001b[38;5;124;43m Matrices\u001b[39;49m\u001b[38;5;124;43m'\u001b[39;49m\u001b[43m)\u001b[49m\n\u001b[0;32m      5\u001b[0m     aggregate_matrix \u001b[38;5;241m=\u001b[39m aggregate_matrices(matrices)\n\u001b[0;32m      6\u001b[0m     weights, max_eigval \u001b[38;5;241m=\u001b[39m calculate_weights(aggregate_matrix)\n",
      "Cell \u001b[1;32mIn[6], line 17\u001b[0m, in \u001b[0;36msave_matrices_to_word\u001b[1;34m(doc, matrices, title)\u001b[0m\n\u001b[0;32m     14\u001b[0m             \u001b[38;5;28;01mfor\u001b[39;00m run \u001b[38;5;129;01min\u001b[39;00m paragraph\u001b[38;5;241m.\u001b[39mruns:\n\u001b[0;32m     15\u001b[0m                 run\u001b[38;5;241m.\u001b[39mfont\u001b[38;5;241m.\u001b[39msize \u001b[38;5;241m=\u001b[39m Pt(\u001b[38;5;241m10\u001b[39m)\n\u001b[1;32m---> 17\u001b[0m weights, max_eigval \u001b[38;5;241m=\u001b[39m \u001b[43mcalculate_weights\u001b[49m\u001b[43m(\u001b[49m\u001b[43mmatrix\u001b[49m\u001b[43m)\u001b[49m\n\u001b[0;32m     18\u001b[0m CI, CR \u001b[38;5;241m=\u001b[39m calculate_consistency(matrix, max_eigval)\n\u001b[0;32m     20\u001b[0m \u001b[38;5;66;03m# Add calculated values to the document\u001b[39;00m\n",
      "Cell \u001b[1;32mIn[4], line 2\u001b[0m, in \u001b[0;36mcalculate_weights\u001b[1;34m(matrix)\u001b[0m\n\u001b[0;32m      1\u001b[0m \u001b[38;5;28;01mdef\u001b[39;00m \u001b[38;5;21mcalculate_weights\u001b[39m(matrix):\n\u001b[1;32m----> 2\u001b[0m     eigvals, eigvecs \u001b[38;5;241m=\u001b[39m \u001b[43mnp\u001b[49m\u001b[38;5;241;43m.\u001b[39;49m\u001b[43mlinalg\u001b[49m\u001b[38;5;241;43m.\u001b[39;49m\u001b[43meig\u001b[49m\u001b[43m(\u001b[49m\u001b[43mmatrix\u001b[49m\u001b[43m)\u001b[49m\n\u001b[0;32m      3\u001b[0m     max_eigval \u001b[38;5;241m=\u001b[39m np\u001b[38;5;241m.\u001b[39mmax(eigvals)\n\u001b[0;32m      4\u001b[0m     max_eigvec \u001b[38;5;241m=\u001b[39m eigvecs[:, np\u001b[38;5;241m.\u001b[39margmax(eigvals)]\u001b[38;5;241m.\u001b[39mreal\n",
      "File \u001b[1;32mc:\\Python312\\Lib\\site-packages\\numpy\\linalg\\_linalg.py:1438\u001b[0m, in \u001b[0;36meig\u001b[1;34m(a)\u001b[0m\n\u001b[0;32m   1436\u001b[0m a, wrap \u001b[38;5;241m=\u001b[39m _makearray(a)\n\u001b[0;32m   1437\u001b[0m _assert_stacked_2d(a)\n\u001b[1;32m-> 1438\u001b[0m \u001b[43m_assert_stacked_square\u001b[49m\u001b[43m(\u001b[49m\u001b[43ma\u001b[49m\u001b[43m)\u001b[49m\n\u001b[0;32m   1439\u001b[0m _assert_finite(a)\n\u001b[0;32m   1440\u001b[0m t, result_t \u001b[38;5;241m=\u001b[39m _commonType(a)\n",
      "File \u001b[1;32mc:\\Python312\\Lib\\site-packages\\numpy\\linalg\\_linalg.py:202\u001b[0m, in \u001b[0;36m_assert_stacked_square\u001b[1;34m(*arrays)\u001b[0m\n\u001b[0;32m    200\u001b[0m m, n \u001b[38;5;241m=\u001b[39m a\u001b[38;5;241m.\u001b[39mshape[\u001b[38;5;241m-\u001b[39m\u001b[38;5;241m2\u001b[39m:]\n\u001b[0;32m    201\u001b[0m \u001b[38;5;28;01mif\u001b[39;00m m \u001b[38;5;241m!=\u001b[39m n:\n\u001b[1;32m--> 202\u001b[0m     \u001b[38;5;28;01mraise\u001b[39;00m LinAlgError(\u001b[38;5;124m'\u001b[39m\u001b[38;5;124mLast 2 dimensions of the array must be square\u001b[39m\u001b[38;5;124m'\u001b[39m)\n",
      "\u001b[1;31mLinAlgError\u001b[0m: Last 2 dimensions of the array must be square"
     ]
    }
   ],
   "source": [
    "# Paths\n",
    "criteria_file = os.path.expanduser('./data/criteria.csv')\n",
    "subcriteria_files = {\n",
    "    \"Performance\": os.path.expanduser('./data/performance.csv'),\n",
    "    \"Physical Construction and Quality\": os.path.expanduser('./data/physical_construction.csv'),\n",
    "    \"Compliance with Regulations and Standards\": os.path.expanduser('./data/compliance.csv'),\n",
    "    \"Reliability and Robustness\": os.path.expanduser('./data/reliability.csv'),\n",
    "    \"Ease of Maintenance\": os.path.expanduser('./data/ease_of_maintenance.csv'),\n",
    "    \"Safety\": os.path.expanduser('./data/safety.csv'),\n",
    "    \"Compatibility with existing Systems and Devices\": os.path.expanduser('./data/compatibility.csv'),\n",
    "    \"Ease of Use\": os.path.expanduser('./data/ease_of_use.csv'),\n",
    "    \"Total Cost of Ownership\": os.path.expanduser('./data/cost_of_ownership.csv'),\n",
    "    \"Environmental and Utilities Requirements\": os.path.expanduser('./data/environmental_requirements.csv'),\n",
    "    \"Supplier\": os.path.expanduser('./data/supplier.csv'),\n",
    "}\n",
    "print (subcriteria_files)\n",
    "doc = Document()\n",
    "doc.add_heading('AHP-TOPSIS Model for Health Technology Assessment of Medical Equipment', 0)\n",
    "\n",
    "# # Process main criteria\n",
    "main_criteria_weights = process_criteria(criteria_file, doc, \"Main Criteria\")\n",
    "\n",
    "# Process subcriteria\n",
    "subcriteria_weights = {}\n",
    "for criterion, file_path in subcriteria_files.items():\n",
    "    subcriteria_weights[criterion] = process_criteria(file_path, doc, f'Subcriteria for {criterion}')\n",
    "\n",
    "# Save document\n",
    "doc.save('AHP_TOPSIS_Results.docx')"
   ]
  },
  {
   "cell_type": "code",
   "execution_count": null,
   "metadata": {},
   "outputs": [],
   "source": []
  }
 ],
 "metadata": {
  "kernelspec": {
   "display_name": "Python 3",
   "language": "python",
   "name": "python3"
  },
  "language_info": {
   "codemirror_mode": {
    "name": "ipython",
    "version": 3
   },
   "file_extension": ".py",
   "mimetype": "text/x-python",
   "name": "python",
   "nbconvert_exporter": "python",
   "pygments_lexer": "ipython3",
   "version": "3.12.4"
  }
 },
 "nbformat": 4,
 "nbformat_minor": 2
}
